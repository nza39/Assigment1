{
 "cells": [
  {
   "cell_type": "code",
   "execution_count": 1,
   "id": "40465252",
   "metadata": {},
   "outputs": [
    {
     "data": {
      "text/plain": [
       "['.github/.keep',\n",
       " '.ipynb',\n",
       " '.ipynb_checkpoints/.ipynb-checkpoint',\n",
       " '.ipynb_checkpoints/Assignment1_prep-checkpoint.ipynb',\n",
       " '.ipynb_checkpoints/BasLAB2-checkpoint.ipynb',\n",
       " '.ipynb_checkpoints/Lab1-checkpoint.ipynb',\n",
       " '.ipynb_checkpoints/Lab2-checkpoint.ipynb',\n",
       " '.ipynb_checkpoints/Lab2mit-checkpoint.ipynb',\n",
       " '.ipynb_checkpoints/Lab3-checkpoint.ipynb',\n",
       " '.ipynb_checkpoints/MitRecipe4-checkpoint.ipynb',\n",
       " '.ipynb_checkpoints/MitSSDA-checkpoint.ipynb',\n",
       " '.ipynb_checkpoints/Untitled-checkpoint.ipynb',\n",
       " '.ipynb_checkpoints/Untitled1-checkpoint.ipynb',\n",
       " '.ipynb_checkpoints/Untitled10-checkpoint.ipynb',\n",
       " '.ipynb_checkpoints/Untitled11-checkpoint.ipynb',\n",
       " '.ipynb_checkpoints/Untitled12-checkpoint.ipynb',\n",
       " '.ipynb_checkpoints/Untitled13-checkpoint.ipynb',\n",
       " '.ipynb_checkpoints/Untitled14-checkpoint.ipynb',\n",
       " '.ipynb_checkpoints/Untitled15-checkpoint.ipynb',\n",
       " '.ipynb_checkpoints/Untitled16-checkpoint.ipynb',\n",
       " '.ipynb_checkpoints/Untitled17-checkpoint.ipynb',\n",
       " '.ipynb_checkpoints/Untitled18-checkpoint.ipynb',\n",
       " '.ipynb_checkpoints/Untitled19-checkpoint.ipynb',\n",
       " '.ipynb_checkpoints/Untitled2-checkpoint.ipynb',\n",
       " '.ipynb_checkpoints/Untitled20-checkpoint.ipynb',\n",
       " '.ipynb_checkpoints/Untitled21-checkpoint.ipynb',\n",
       " '.ipynb_checkpoints/Untitled22-checkpoint.ipynb',\n",
       " '.ipynb_checkpoints/Untitled23-checkpoint.ipynb',\n",
       " '.ipynb_checkpoints/Untitled3-checkpoint.ipynb',\n",
       " '.ipynb_checkpoints/Untitled4-checkpoint.ipynb',\n",
       " '.ipynb_checkpoints/Untitled5-checkpoint.ipynb',\n",
       " '.ipynb_checkpoints/Untitled6-checkpoint.ipynb',\n",
       " '.ipynb_checkpoints/Untitled7-checkpoint.ipynb',\n",
       " '.ipynb_checkpoints/Untitled8-checkpoint.ipynb',\n",
       " '.ipynb_checkpoints/Untitled9-checkpoint.ipynb',\n",
       " '.ipynb_checkpoints/basic_text_processing-checkpoint.ipynb',\n",
       " '.ipynb_checkpoints/cccccccccccc-checkpoint.ipynb',\n",
       " '.ipynb_checkpoints/counting-checkpoint.ipynb',\n",
       " '.ipynb_checkpoints/file_paths-checkpoint.ipynb',\n",
       " '.ipynb_checkpoints/mithbas -checkpoint.ipynb',\n",
       " '.ipynb_checkpoints/mitttt-checkpoint.ipynb',\n",
       " '.ipynb_checkpoints/mmmmm-checkpoint.ipynb',\n",
       " '.ipynb_checkpoints/python_basics-checkpoint.ipynb',\n",
       " '.ipynb_checkpoints/regex-checkpoint.ipynb',\n",
       " 'Anaconda3-2022.10-Windows-x86_64.exe',\n",
       " 'Assignment1_prep.ipynb',\n",
       " 'BasLAB2.ipynb',\n",
       " 'Lab1.ipynb',\n",
       " 'Lab2.ipynb',\n",
       " 'Lab2mit.ipynb',\n",
       " 'Lab3.ipynb',\n",
       " 'MitRecipe4.ipynb',\n",
       " 'MitSSDA.ipynb',\n",
       " 'README.md',\n",
       " 'Recipes.txt',\n",
       " 'SDA A2/.github/.keep',\n",
       " 'SDA A2/.ipynb_checkpoints/Lab2-checkpoint.ipynb',\n",
       " 'SDA A2/Lab2.ipynb',\n",
       " 'SDA A2/Mary.csv',\n",
       " 'SDA A2/dataset1/.gitkeep',\n",
       " 'SDA A2/dataset1/Mary.csv',\n",
       " 'SDA A2/dataset1/aTaleOfTwoCities.txt',\n",
       " 'SDA A2/dataset1/adventuresOfHuckleberryFinn.txt',\n",
       " 'SDA A2/dataset1/prideAndPrejudice.txt',\n",
       " 'Untitled.ipynb',\n",
       " 'Untitled1.ipynb',\n",
       " 'Untitled10.ipynb',\n",
       " 'Untitled11.ipynb',\n",
       " 'Untitled12.ipynb',\n",
       " 'Untitled13.ipynb',\n",
       " 'Untitled14.ipynb',\n",
       " 'Untitled15.ipynb',\n",
       " 'Untitled16.ipynb',\n",
       " 'Untitled17.ipynb',\n",
       " 'Untitled18.ipynb',\n",
       " 'Untitled19.ipynb',\n",
       " 'Untitled2.ipynb',\n",
       " 'Untitled20.ipynb',\n",
       " 'Untitled21.ipynb',\n",
       " 'Untitled22.ipynb',\n",
       " 'Untitled23.ipynb',\n",
       " 'Untitled3.ipynb',\n",
       " 'Untitled4.ipynb',\n",
       " 'Untitled5.ipynb',\n",
       " 'Untitled6.ipynb',\n",
       " 'Untitled7.ipynb',\n",
       " 'Untitled8.ipynb',\n",
       " 'Untitled9.ipynb',\n",
       " 'adventuresOfHuckleberryFinn.txt',\n",
       " 'basic_text_processing.ipynb',\n",
       " 'cccccccccccc.ipynb',\n",
       " 'corpus/Corpus/Recipes.txt',\n",
       " 'corpus/MitRecipe4.ipynb',\n",
       " 'counting.ipynb',\n",
       " 'data/MadLibVacation.txt',\n",
       " 'data/NYT_1991-01-16-A15.txt',\n",
       " 'data/hello.txt',\n",
       " 'data/movies.txt',\n",
       " 'data/music.txt',\n",
       " 'dataset0',\n",
       " 'dataset1/.gitkeep',\n",
       " 'dataset1/.ipynb_checkpoints/Review-checkpoint.ipynb',\n",
       " 'dataset1/.ipynb_checkpoints/Untitled-checkpoint.ipynb',\n",
       " 'dataset1/Mary.csv',\n",
       " 'dataset1/Review.ipynb',\n",
       " 'dataset1/Untitled.ipynb',\n",
       " 'dataset1/aTaleOfTwoCities.txt',\n",
       " 'dataset1/adventuresOfHuckleberryFinn.txt',\n",
       " 'dataset1/prideAndPrejudice.txt',\n",
       " 'desktop.ini',\n",
       " 'fileName.txt',\n",
       " 'file_paths.ipynb',\n",
       " 'lab1-MitsfuSDA-main.zip',\n",
       " 'lab2-MitsfuSDA-main (1).zip',\n",
       " 'lab2-MitsfuSDA-main.zip',\n",
       " 'lab3-MitsfuSDA-main.zip',\n",
       " 'mithbas .ipynb',\n",
       " 'mitttt.ipynb',\n",
       " 'mmmmm.ipynb',\n",
       " 'movies.txt',\n",
       " 'music.txt',\n",
       " 'pooja.txt',\n",
       " 'python_basics.ipynb',\n",
       " 'python_basics.ipynb.txt',\n",
       " 'regex.ipynb',\n",
       " 'saveFile.txt',\n",
       " 'sda-binder-main (1).zip',\n",
       " 'sda-binder-main (2).zip',\n",
       " 'sda-binder-main (3).zip',\n",
       " 'sda-binder-main.zip',\n",
       " 'untitled.txt',\n",
       " 'untitled1.txt']"
      ]
     },
     "execution_count": 1,
     "metadata": {},
     "output_type": "execute_result"
    }
   ],
   "source": [
    "import nltk\n",
    "import numpy\n",
    "import matplotlib\n",
    "\n",
    "from nltk.probability import FreqDist\n",
    "from nltk.corpus import PlaintextCorpusReader\n",
    "from nltk.util import bigrams\n",
    "\n",
    "corpus_root= 'C:\\\\Users\\\\mitru\\\\Downloads'\n",
    "\n",
    "myCorpus=PlaintextCorpusReader(corpus_root, '.*', encoding = \"utf8\")\n",
    "myCorpus.fileids()"
   ]
  },
  {
   "cell_type": "code",
   "execution_count": 2,
   "id": "d68f2c7c",
   "metadata": {},
   "outputs": [
    {
     "data": {
      "text/plain": [
       "'C:\\\\Users\\\\mitru\\\\Downloads'"
      ]
     },
     "execution_count": 2,
     "metadata": {},
     "output_type": "execute_result"
    }
   ],
   "source": [
    "pwd"
   ]
  },
  {
   "cell_type": "code",
   "execution_count": 4,
   "id": "0cc221d6",
   "metadata": {},
   "outputs": [],
   "source": [
    "recipe_words= myCorpus.words('Recipes.txt.')"
   ]
  },
  {
   "cell_type": "code",
   "execution_count": 5,
   "id": "383e5a3e",
   "metadata": {},
   "outputs": [
    {
     "data": {
      "text/plain": [
       "7967"
      ]
     },
     "execution_count": 5,
     "metadata": {},
     "output_type": "execute_result"
    }
   ],
   "source": [
    "#Length\n",
    "len(recipe_words)"
   ]
  },
  {
   "cell_type": "code",
   "execution_count": 6,
   "id": "d529612f",
   "metadata": {},
   "outputs": [
    {
     "data": {
      "text/plain": [
       "0.16354964227438182"
      ]
     },
     "execution_count": 6,
     "metadata": {},
     "output_type": "execute_result"
    }
   ],
   "source": [
    "#Lexical Diversity\n",
    "def lexical_diversity(text):\n",
    "    return len(set(text)) / len(text)\n",
    "\n",
    "lexical_diversity(recipe_words)"
   ]
  },
  {
   "cell_type": "code",
   "execution_count": 7,
   "id": "ef2167ab",
   "metadata": {},
   "outputs": [
    {
     "name": "stdout",
     "output_type": "stream",
     "text": [
      "[['Four', '-', 'Dried', '-', 'Chilies', 'Chili', 'with', 'Cocoa', '&', 'Cinnamon', '\"', 'We', \"'\", 're', 'having', 'chili', 'night', ',', 'people', '!\"'], ['says', 'Rach', '.'], ...]\n",
      "498\n"
     ]
    }
   ],
   "source": [
    "#Longest sentence\n",
    "recipe_sentence= myCorpus.sents('Recipes.txt')\n",
    "longestsent=(recipe_sentence)\n",
    "print(longestsent)\n",
    "print(len(longestsent))"
   ]
  },
  {
   "cell_type": "code",
   "execution_count": 8,
   "id": "5b9b6a7d",
   "metadata": {},
   "outputs": [
    {
     "ename": "NameError",
     "evalue": "name 'longestSent' is not defined",
     "output_type": "error",
     "traceback": [
      "\u001b[1;31m---------------------------------------------------------------------------\u001b[0m",
      "\u001b[1;31mNameError\u001b[0m                                 Traceback (most recent call last)",
      "\u001b[1;32m~\\AppData\\Local\\Temp\\ipykernel_6272\\3841465732.py\u001b[0m in \u001b[0;36m<module>\u001b[1;34m\u001b[0m\n\u001b[0;32m      1\u001b[0m \u001b[0mwordsSent\u001b[0m\u001b[1;33m=\u001b[0m\u001b[1;33m[\u001b[0m\u001b[1;33m]\u001b[0m\u001b[1;33m\u001b[0m\u001b[1;33m\u001b[0m\u001b[0m\n\u001b[0;32m      2\u001b[0m \u001b[1;33m\u001b[0m\u001b[0m\n\u001b[1;32m----> 3\u001b[1;33m \u001b[1;32mfor\u001b[0m \u001b[0mi\u001b[0m \u001b[1;32min\u001b[0m \u001b[0mlongestSent\u001b[0m\u001b[1;33m:\u001b[0m\u001b[1;33m\u001b[0m\u001b[1;33m\u001b[0m\u001b[0m\n\u001b[0m\u001b[0;32m      4\u001b[0m       \u001b[1;32mif\u001b[0m \u001b[0mi\u001b[0m\u001b[1;33m.\u001b[0m\u001b[0misalnum\u001b[0m\u001b[1;33m(\u001b[0m\u001b[1;33m)\u001b[0m\u001b[1;33m:\u001b[0m\u001b[1;33m\u001b[0m\u001b[1;33m\u001b[0m\u001b[0m\n\u001b[0;32m      5\u001b[0m         \u001b[0mwordsSent\u001b[0m\u001b[1;33m.\u001b[0m\u001b[0mappend\u001b[0m\u001b[1;33m(\u001b[0m\u001b[0mi\u001b[0m\u001b[1;33m)\u001b[0m\u001b[1;33m\u001b[0m\u001b[1;33m\u001b[0m\u001b[0m\n",
      "\u001b[1;31mNameError\u001b[0m: name 'longestSent' is not defined"
     ]
    }
   ],
   "source": [
    "wordsSent=[]\n",
    "\n",
    "for i in longestSent:\n",
    "      if i.isalnum():\n",
    "        wordsSent.append(i)\n",
    "        \n",
    "print(wordsSent)\n",
    "\n",
    "print(len(wordsSent))"
   ]
  },
  {
   "cell_type": "code",
   "execution_count": 9,
   "id": "a1683464",
   "metadata": {},
   "outputs": [
    {
     "name": "stdout",
     "output_type": "stream",
     "text": [
      "finely chopped; cloves garlic; Yield Serves; olive oil; stirring\n",
      "often; mousse pate; Preheat oven; thinly sliced; egg wash; iron\n",
      "skillet; baking sheet; bay leaf; ground beef; pounds ground; sage\n",
      "leaves; says Rach; Dutch oven; Individual Beef; puff pastry; black\n",
      "pepper\n"
     ]
    }
   ],
   "source": [
    "#Top Collocations\n",
    "website = nltk.Text(myCorpus.words('Recipes.txt.'))\n",
    "website.collocations()"
   ]
  },
  {
   "cell_type": "code",
   "execution_count": 10,
   "id": "497b1dea",
   "metadata": {},
   "outputs": [
    {
     "data": {
      "text/plain": [
       "[('and', 313),\n",
       " ('a', 117),\n",
       " ('about', 51),\n",
       " ('add', 29),\n",
       " ('as', 18),\n",
       " ('are', 11),\n",
       " ('at', 11),\n",
       " ('all', 6),\n",
       " ('aerosol', 5),\n",
       " ('absorb', 4)]"
      ]
     },
     "execution_count": 10,
     "metadata": {},
     "output_type": "execute_result"
    }
   ],
   "source": [
    "#Top ten words that start with each of the vowels\n",
    "alist=sorted((w.lower() for w in recipe_words if w.startswith('a')))\n",
    "\n",
    "vowelDist=FreqDist(alist)\n",
    "vowelDist.most_common(10)"
   ]
  },
  {
   "cell_type": "code",
   "execution_count": 11,
   "id": "e1e08e74",
   "metadata": {},
   "outputs": [
    {
     "data": {
      "text/plain": [
       "[('each', 24),\n",
       " ('egg', 13),\n",
       " ('eggs', 10),\n",
       " ('even', 6),\n",
       " ('easy', 5),\n",
       " ('eggplant', 5),\n",
       " ('end', 3),\n",
       " ('extra', 3),\n",
       " ('enough', 2),\n",
       " ('escarole', 2)]"
      ]
     },
     "execution_count": 11,
     "metadata": {},
     "output_type": "execute_result"
    }
   ],
   "source": [
    "alist=sorted((w.lower() for w in recipe_words if w.startswith('e')))\n",
    "\n",
    "vowelDist=FreqDist(alist)\n",
    "vowelDist.most_common(10)"
   ]
  },
  {
   "cell_type": "code",
   "execution_count": 12,
   "id": "a1a1c1a1",
   "metadata": {},
   "outputs": [
    {
     "data": {
      "text/plain": [
       "[('in', 67),\n",
       " ('it', 36),\n",
       " ('into', 20),\n",
       " ('inch', 17),\n",
       " ('is', 14),\n",
       " ('inches', 8),\n",
       " ('iron', 6),\n",
       " ('if', 4),\n",
       " ('ingredients', 3),\n",
       " ('includes', 1)]"
      ]
     },
     "execution_count": 12,
     "metadata": {},
     "output_type": "execute_result"
    }
   ],
   "source": [
    "alist3=sorted(w.lower() for w in recipe_words if w.startswith('i'))\n",
    "\n",
    "vowelDist=FreqDist(alist3)\n",
    "vowelDist.most_common(10)"
   ]
  },
  {
   "cell_type": "code",
   "execution_count": 13,
   "id": "39fe9ea3",
   "metadata": {},
   "outputs": [
    {
     "data": {
      "text/plain": [
       "[('or', 132),\n",
       " ('of', 82),\n",
       " ('oil', 33),\n",
       " ('on', 32),\n",
       " ('over', 27),\n",
       " ('onion', 20),\n",
       " ('oven', 20),\n",
       " ('onions', 17),\n",
       " ('olive', 14),\n",
       " ('ounces', 10)]"
      ]
     },
     "execution_count": 13,
     "metadata": {},
     "output_type": "execute_result"
    }
   ],
   "source": [
    "alist4=sorted(w.lower() for w in recipe_words if w.startswith('o'))\n",
    "\n",
    "vowelDist=FreqDist(alist4)\n",
    "vowelDist.most_common(10)"
   ]
  },
  {
   "cell_type": "code",
   "execution_count": 14,
   "id": "e3e70f69",
   "metadata": {},
   "outputs": [
    {
     "data": {
      "text/plain": [
       "[('until', 40),\n",
       " ('up', 9),\n",
       " ('using', 5),\n",
       " ('use', 4),\n",
       " ('used', 3),\n",
       " ('unsweetened', 1),\n",
       " ('upstate', 1)]"
      ]
     },
     "execution_count": 14,
     "metadata": {},
     "output_type": "execute_result"
    }
   ],
   "source": [
    "alist5=sorted(w.lower() for w in recipe_words if w.startswith('u'))\n",
    "\n",
    "vowelDist=FreqDist(alist5)\n",
    "vowelDist.most_common(10)"
   ]
  },
  {
   "cell_type": "code",
   "execution_count": 15,
   "id": "1d015af0",
   "metadata": {},
   "outputs": [
    {
     "ename": "NameError",
     "evalue": "name 'longestSent' is not defined",
     "output_type": "error",
     "traceback": [
      "\u001b[1;31m---------------------------------------------------------------------------\u001b[0m",
      "\u001b[1;31mNameError\u001b[0m                                 Traceback (most recent call last)",
      "\u001b[1;32m~\\AppData\\Local\\Temp\\ipykernel_6272\\1649746039.py\u001b[0m in \u001b[0;36m<module>\u001b[1;34m\u001b[0m\n\u001b[0;32m      3\u001b[0m \u001b[0mlancaster\u001b[0m \u001b[1;33m=\u001b[0m \u001b[0mnltk\u001b[0m\u001b[1;33m.\u001b[0m\u001b[0mLancasterStemmer\u001b[0m\u001b[1;33m(\u001b[0m\u001b[1;33m)\u001b[0m\u001b[1;33m\u001b[0m\u001b[1;33m\u001b[0m\u001b[0m\n\u001b[0;32m      4\u001b[0m \u001b[1;33m\u001b[0m\u001b[0m\n\u001b[1;32m----> 5\u001b[1;33m \u001b[0mStem1\u001b[0m\u001b[1;33m=\u001b[0m\u001b[1;33m[\u001b[0m\u001b[0mlancaster\u001b[0m\u001b[1;33m.\u001b[0m\u001b[0mstem\u001b[0m\u001b[1;33m(\u001b[0m\u001b[0mt\u001b[0m\u001b[1;33m)\u001b[0m \u001b[1;32mfor\u001b[0m \u001b[0mt\u001b[0m \u001b[1;32min\u001b[0m \u001b[0mlongestSent\u001b[0m\u001b[1;33m]\u001b[0m\u001b[1;33m\u001b[0m\u001b[1;33m\u001b[0m\u001b[0m\n\u001b[0m\u001b[0;32m      6\u001b[0m \u001b[1;33m\u001b[0m\u001b[0m\n\u001b[0;32m      7\u001b[0m \u001b[0mStem2\u001b[0m\u001b[1;33m=\u001b[0m\u001b[1;33m[\u001b[0m\u001b[0mporter\u001b[0m\u001b[1;33m.\u001b[0m\u001b[0mstem\u001b[0m\u001b[1;33m(\u001b[0m\u001b[0mt\u001b[0m\u001b[1;33m)\u001b[0m \u001b[1;32mfor\u001b[0m \u001b[0mt\u001b[0m \u001b[1;32min\u001b[0m \u001b[0mlongestSent\u001b[0m\u001b[1;33m]\u001b[0m\u001b[1;33m\u001b[0m\u001b[1;33m\u001b[0m\u001b[0m\n",
      "\u001b[1;31mNameError\u001b[0m: name 'longestSent' is not defined"
     ]
    }
   ],
   "source": [
    "#A stemmed version of the longest sentence\n",
    "porter = nltk.PorterStemmer()\n",
    "lancaster = nltk.LancasterStemmer()\n",
    "\n",
    "Stem1=[lancaster.stem(t) for t in longestSent]\n",
    "\n",
    "Stem2=[porter.stem(t) for t in longestSent]\n",
    "\n",
    "print(longestSent)\n",
    "print(Stem1)\n",
    "print(Stem2)\n"
   ]
  },
  {
   "cell_type": "code",
   "execution_count": null,
   "id": "d3000b22",
   "metadata": {},
   "outputs": [],
   "source": []
  }
 ],
 "metadata": {
  "kernelspec": {
   "display_name": "Python 3 (ipykernel)",
   "language": "python",
   "name": "python3"
  },
  "language_info": {
   "codemirror_mode": {
    "name": "ipython",
    "version": 3
   },
   "file_extension": ".py",
   "mimetype": "text/x-python",
   "name": "python",
   "nbconvert_exporter": "python",
   "pygments_lexer": "ipython3",
   "version": "3.9.13"
  }
 },
 "nbformat": 4,
 "nbformat_minor": 5
}
