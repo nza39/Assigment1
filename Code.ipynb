{
 "cells": [
  {
   "cell_type": "markdown",
   "id": "db06590b",
   "metadata": {},
   "source": [
    "# Assigment 1"
   ]
  },
  {
   "cell_type": "code",
   "execution_count": 124,
   "id": "ec9ee0e6",
   "metadata": {},
   "outputs": [
    {
     "data": {
      "text/plain": [
       "['.DS_Store', 'Emails.txt', 'Great_Gatsby.txt']"
      ]
     },
     "execution_count": 124,
     "metadata": {},
     "output_type": "execute_result"
    }
   ],
   "source": [
    "import nltk\n",
    "import numpy\n",
    "import matplotlib\n",
    "\n",
    "from nltk.probability import FreqDist\n",
    "from nltk.corpus import PlaintextCorpusReader\n",
    "from nltk.util import bigrams\n",
    "\n",
    "corpus_root='./Corpus'\n",
    "\n",
    "\n",
    "myCorpus=PlaintextCorpusReader(corpus_root, '.*', encoding = \"utf8\")\n",
    "myCorpus.fileids()\n"
   ]
  },
  {
   "cell_type": "markdown",
   "id": "bcc65ced",
   "metadata": {},
   "source": [
    "## Subcorpora 1 - Emails\n",
    "\n",
    "\"The Great Gatsby\" is the first component of our corpus. This txt file is a 1925 novel by the American writer F. Scott Fitzgerald. The text was retrieved from the online free library Project Gutenber (https://www.gutenberg.org/). \n",
    " "
   ]
  },
  {
   "cell_type": "code",
   "execution_count": 71,
   "id": "03705d7b",
   "metadata": {},
   "outputs": [],
   "source": [
    "email_words = myCorpus.words('Emails.txt')"
   ]
  },
  {
   "cell_type": "code",
   "execution_count": 72,
   "id": "ca4a74a5",
   "metadata": {},
   "outputs": [
    {
     "data": {
      "text/plain": [
       "8657"
      ]
     },
     "execution_count": 72,
     "metadata": {},
     "output_type": "execute_result"
    }
   ],
   "source": [
    "#Length\n",
    "len(email_words)"
   ]
  },
  {
   "cell_type": "code",
   "execution_count": 73,
   "id": "fdfe5e27",
   "metadata": {},
   "outputs": [
    {
     "data": {
      "text/plain": [
       "0.1716529975742174"
      ]
     },
     "execution_count": 73,
     "metadata": {},
     "output_type": "execute_result"
    }
   ],
   "source": [
    "#Lexical Diversity\n",
    "def lexical_diversity(text):\n",
    "    return len(set(text)) / len(text)\n",
    "\n",
    "lexical_diversity(email_words)"
   ]
  },
  {
   "cell_type": "code",
   "execution_count": 122,
   "id": "935ce3b6",
   "metadata": {
    "scrolled": false
   },
   "outputs": [
    {
     "name": "stdout",
     "output_type": "stream",
     "text": [
      "['As', 'a', 'peer', 'educator', ',', 'I', 'believe', 'that', 'I', 'will', 'be', 'able', 'to', 'motivate', 'students', 'by', 'reminding', 'them', 'that', 'is', 'completely', 'worth', 'it', 'to', 'make', 'an', 'effort', 'to', 'accomplish', 'things', 'academically', ',', 'not', 'just', 'to', 'fulfill', 'a', 'requirement', 'or', 'get', 'a', 'certain', 'grade', ',', 'but', 'to', 'feel', 'good', 'with', 'themselves', ',', 'grow', ',', 'learn', 'and', 'truly', 'take', 'advantage', 'of', 'this', 'massive', 'opportunity', 'we', 'have', 'been', 'given', '.']\n",
      "67\n"
     ]
    }
   ],
   "source": [
    "#Longest sentence\n",
    "email_sentences = myCorpus.sents('Emails.txt')\n",
    "\n",
    "\n",
    "\n",
    "longestSent=[]\n",
    "for i in email_sentences:\n",
    "    if len(i)>len(longestSent):\n",
    "        longestSent=i\n",
    "\n",
    "print(longestSent)\n",
    "\n",
    "print(len(longestSent))\n"
   ]
  },
  {
   "cell_type": "code",
   "execution_count": 111,
   "id": "2e745758",
   "metadata": {},
   "outputs": [
    {
     "name": "stdout",
     "output_type": "stream",
     "text": [
      "['As', 'a', 'peer', 'educator', 'I', 'believe', 'that', 'I', 'will', 'be', 'able', 'to', 'motivate', 'students', 'by', 'reminding', 'them', 'that', 'is', 'completely', 'worth', 'it', 'to', 'make', 'an', 'effort', 'to', 'accomplish', 'things', 'academically', 'not', 'just', 'to', 'fulfill', 'a', 'requirement', 'or', 'get', 'a', 'certain', 'grade', 'but', 'to', 'feel', 'good', 'with', 'themselves', 'grow', 'learn', 'and', 'truly', 'take', 'advantage', 'of', 'this', 'massive', 'opportunity', 'we', 'have', 'been', 'given']\n",
      "61\n"
     ]
    }
   ],
   "source": [
    "wordsSent=[]\n",
    "\n",
    "for i in longestSent:\n",
    "    if i.isalnum():\n",
    "        wordsSent.append(i)\n",
    "        \n",
    "print(wordsSent)\n",
    "\n",
    "print(len(wordsSent))\n"
   ]
  },
  {
   "cell_type": "code",
   "execution_count": 60,
   "id": "8ea4c010",
   "metadata": {},
   "outputs": [
    {
     "name": "stdout",
     "output_type": "stream",
     "text": [
      "Natalia Zuluaga; Ana Mayorca; --- Hello; Best regards; iPhone ---;\n",
      "Good evening; application process; --- Dear; Fall 2021; look forward;\n",
      "ZULND2103 ---; late January; still available; submit ACT; would like;\n",
      "--- Good; Zuluaga ---; application fee; start studying; test scores\n"
     ]
    }
   ],
   "source": [
    "#Top Collocations\n",
    "email = nltk.Text(myCorpus.words('Emails.txt'))\n",
    "email.collocations()\n"
   ]
  },
  {
   "cell_type": "code",
   "execution_count": 61,
   "id": "96fe6d22",
   "metadata": {},
   "outputs": [
    {
     "data": {
      "text/plain": [
       "[('and', 156),\n",
       " ('a', 83),\n",
       " ('am', 40),\n",
       " ('are', 40),\n",
       " ('application', 31),\n",
       " ('advance', 28),\n",
       " ('as', 28),\n",
       " ('at', 27),\n",
       " ('an', 25),\n",
       " ('again', 19)]"
      ]
     },
     "execution_count": 61,
     "metadata": {},
     "output_type": "execute_result"
    }
   ],
   "source": [
    "#Top ten words that start with each of the vowels\n",
    "alist=sorted((w.lower() for w in email_words if w.startswith('a')))\n",
    "\n",
    "vowelDist=FreqDist(alist)\n",
    "vowelDist.most_common(10)"
   ]
  },
  {
   "cell_type": "code",
   "execution_count": 62,
   "id": "7b74cf04",
   "metadata": {},
   "outputs": [
    {
     "data": {
      "text/plain": [
       "[('email', 22),\n",
       " ('early', 8),\n",
       " ('evening', 8),\n",
       " ('everything', 7),\n",
       " ('each', 4),\n",
       " ('else', 4),\n",
       " ('experience', 4),\n",
       " ('enjoy', 3),\n",
       " ('enroll', 3),\n",
       " ('enrolled', 3)]"
      ]
     },
     "execution_count": 62,
     "metadata": {},
     "output_type": "execute_result"
    }
   ],
   "source": [
    "alist2=sorted((w.lower() for w in email_words if w.startswith('e')))\n",
    "\n",
    "vowelDist=FreqDist(alist2)\n",
    "vowelDist.most_common(10)"
   ]
  },
  {
   "cell_type": "code",
   "execution_count": 63,
   "id": "63d49dbf",
   "metadata": {},
   "outputs": [
    {
     "data": {
      "text/plain": [
       "[('in', 122),\n",
       " ('is', 97),\n",
       " ('it', 64),\n",
       " ('if', 53),\n",
       " ('iphone', 18),\n",
       " ('interested', 16),\n",
       " ('information', 11),\n",
       " ('inconvenience', 9),\n",
       " ('insect', 3),\n",
       " ('instead', 3)]"
      ]
     },
     "execution_count": 63,
     "metadata": {},
     "output_type": "execute_result"
    }
   ],
   "source": [
    "alist3=sorted((w.lower() for w in email_words if w.startswith('i')))\n",
    "\n",
    "vowelDist=FreqDist(alist3)\n",
    "vowelDist.most_common(10)"
   ]
  },
  {
   "cell_type": "code",
   "execution_count": 64,
   "id": "31c2689d",
   "metadata": {},
   "outputs": [
    {
     "data": {
      "text/plain": [
       "[('of', 77),\n",
       " ('on', 44),\n",
       " ('or', 21),\n",
       " ('out', 12),\n",
       " ('other', 11),\n",
       " ('our', 9),\n",
       " ('opportunity', 7),\n",
       " ('one', 5),\n",
       " ('only', 5),\n",
       " ('offer', 4)]"
      ]
     },
     "execution_count": 64,
     "metadata": {},
     "output_type": "execute_result"
    }
   ],
   "source": [
    "alist4=sorted((w.lower() for w in email_words if w.startswith('o')))\n",
    "\n",
    "vowelDist=FreqDist(alist4)\n",
    "vowelDist.most_common(10)"
   ]
  },
  {
   "cell_type": "code",
   "execution_count": 65,
   "id": "54a814da",
   "metadata": {},
   "outputs": [
    {
     "data": {
      "text/plain": [
       "[('us', 5),\n",
       " ('useful', 4),\n",
       " ('used', 3),\n",
       " ('unable', 2),\n",
       " ('unenroll', 2),\n",
       " ('up', 2),\n",
       " ('use', 2),\n",
       " ('using', 2),\n",
       " ('undergraduate', 1),\n",
       " ('understanding', 1)]"
      ]
     },
     "execution_count": 65,
     "metadata": {},
     "output_type": "execute_result"
    }
   ],
   "source": [
    "alist5=sorted((w.lower() for w in email_words if w.startswith('u')))\n",
    "\n",
    "vowelDist=FreqDist(alist5)\n",
    "vowelDist.most_common(10)"
   ]
  },
  {
   "cell_type": "code",
   "execution_count": 113,
   "id": "d206ab9a",
   "metadata": {},
   "outputs": [
    {
     "name": "stdout",
     "output_type": "stream",
     "text": [
      "['as', 'a', 'peer', 'educ', ',', 'i', 'believ', 'that', 'i', 'wil', 'be', 'abl', 'to', 'mot', 'stud', 'by', 'remind', 'them', 'that', 'is', 'complet', 'wor', 'it', 'to', 'mak', 'an', 'effort', 'to', 'accompl', 'thing', 'academ', ',', 'not', 'just', 'to', 'fulfil', 'a', 'requir', 'or', 'get', 'a', 'certain', 'grad', ',', 'but', 'to', 'feel', 'good', 'with', 'themselv', ',', 'grow', ',', 'learn', 'and', 'tru', 'tak', 'adv', 'of', 'thi', 'mass', 'opportun', 'we', 'hav', 'been', 'giv', '.']\n",
      "['as', 'a', 'peer', 'educ', ',', 'i', 'believ', 'that', 'i', 'will', 'be', 'abl', 'to', 'motiv', 'student', 'by', 'remind', 'them', 'that', 'is', 'complet', 'worth', 'it', 'to', 'make', 'an', 'effort', 'to', 'accomplish', 'thing', 'academ', ',', 'not', 'just', 'to', 'fulfil', 'a', 'requir', 'or', 'get', 'a', 'certain', 'grade', ',', 'but', 'to', 'feel', 'good', 'with', 'themselv', ',', 'grow', ',', 'learn', 'and', 'truli', 'take', 'advantag', 'of', 'thi', 'massiv', 'opportun', 'we', 'have', 'been', 'given', '.']\n"
     ]
    }
   ],
   "source": [
    "#A stemmed version of the longest sentence \n",
    "porter = nltk.PorterStemmer()\n",
    "lancaster = nltk.LancasterStemmer()\n",
    "\n",
    "Stem1=[lancaster.stem(t) for t in longestSent]\n",
    "\n",
    "Stem2=[porter.stem(t) for t in longestSent]\n",
    "\n",
    "print(Stem1)\n",
    "print(Stem2)"
   ]
  },
  {
   "cell_type": "code",
   "execution_count": null,
   "id": "08d36ccd",
   "metadata": {},
   "outputs": [],
   "source": []
  }
 ],
 "metadata": {
  "kernelspec": {
   "display_name": "Python 3 (ipykernel)",
   "language": "python",
   "name": "python3"
  },
  "language_info": {
   "codemirror_mode": {
    "name": "ipython",
    "version": 3
   },
   "file_extension": ".py",
   "mimetype": "text/x-python",
   "name": "python",
   "nbconvert_exporter": "python",
   "pygments_lexer": "ipython3",
   "version": "3.9.13"
  }
 },
 "nbformat": 4,
 "nbformat_minor": 5
}
