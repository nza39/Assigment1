{
 "cells": [
  {
   "cell_type": "markdown",
   "id": "b8e50e75",
   "metadata": {},
   "source": [
    "# Assignment 1\n"
   ]
  },
  {
   "cell_type": "code",
   "execution_count": 4,
   "id": "687f034e",
   "metadata": {},
   "outputs": [],
   "source": [
    "import nltk\n",
    "import numpy\n",
    "import matplotlib\n",
    "\n",
    "from nltk.probability import FreqDist\n",
    "from nltk.util import bigrams\n",
    "from nltk.corpus import PlaintextCorpusReader\n",
    "\n",
    "\n",
    "corpus_root = \"C:\\\\Users\\\\User\\\\SDA250Mywork\"\n",
    "\n",
    "reviews = PlaintextCorpusReader(corpus_root, '.*', encoding = \"utf8\")"
   ]
  },
  {
   "cell_type": "code",
   "execution_count": 7,
   "id": "4136c3e0",
   "metadata": {},
   "outputs": [],
   "source": [
    "news_article = reviews.words('newsArticle.txt')"
   ]
  },
  {
   "cell_type": "code",
   "execution_count": 9,
   "id": "1095eaa8",
   "metadata": {},
   "outputs": [
    {
     "data": {
      "text/plain": [
       "1496"
      ]
     },
     "execution_count": 9,
     "metadata": {},
     "output_type": "execute_result"
    }
   ],
   "source": [
    "len(news_article)"
   ]
  },
  {
   "cell_type": "code",
   "execution_count": 27,
   "id": "ea0a1b3c",
   "metadata": {},
   "outputs": [
    {
     "data": {
      "text/plain": [
       "0.37032085561497324"
      ]
     },
     "execution_count": 27,
     "metadata": {},
     "output_type": "execute_result"
    }
   ],
   "source": [
    "def lexical_diversity(text):\n",
    "    return len(set(text)) / len(text)\n",
    "\n",
    "lexical_diversity(news_article)"
   ]
  },
  {
   "cell_type": "code",
   "execution_count": 13,
   "id": "fd415e6d",
   "metadata": {},
   "outputs": [
    {
     "name": "stdout",
     "output_type": "stream",
     "text": [
      "['“', 'The', 'AI', 'race', 'is', 'clearly', 'on', 'for', 'the', 'tech', 'sector', ',”', 'the', 'analysts', 'wrote', 'in', 'a', 'Monday', 'note', '.']\n",
      "20\n"
     ]
    }
   ],
   "source": [
    "#Longest sentence\n",
    "\n",
    "myCorpus=PlaintextCorpusReader(corpus_root, '.*', encoding = \"utf8\")\n",
    "\n",
    "news_sentences = myCorpus.sents('newsArticle.txt')\n",
    "longestSent = max(news_sentences)\n",
    "print(longestSent)\n",
    "\n",
    "print(len(longestSent))"
   ]
  },
  {
   "cell_type": "code",
   "execution_count": 14,
   "id": "b897cf3d",
   "metadata": {},
   "outputs": [
    {
     "name": "stdout",
     "output_type": "stream",
     "text": [
      "['The', 'AI', 'race', 'is', 'clearly', 'on', 'for', 'the', 'tech', 'sector', 'the', 'analysts', 'wrote', 'in', 'a', 'Monday', 'note']\n",
      "17\n"
     ]
    }
   ],
   "source": [
    "wordsSent=[]\n",
    "\n",
    "for i in longestSent:\n",
    "    if i.isalnum():\n",
    "        wordsSent.append(i)\n",
    "        \n",
    "print(wordsSent)\n",
    "\n",
    "print(len(wordsSent))\n"
   ]
  },
  {
   "cell_type": "code",
   "execution_count": 16,
   "id": "43398e22",
   "metadata": {},
   "outputs": [
    {
     "name": "stdout",
     "output_type": "stream",
     "text": [
      "Jordan Novet; Jonathan Vanian; CEO Sam; try beginning; Sam Altman;\n",
      "coming weeks; confidential information; beginning Tuesday; limited\n",
      "preview; Google Search; software category; OpenAI CEO; search engine;\n",
      "Nadella added; Pichai said; Edge browser; Bing launches; new Bing; new\n",
      "paradigm; announced Bard\n"
     ]
    }
   ],
   "source": [
    "#Top collocations\n",
    "news = nltk.Text(myCorpus.words('newsArticle.txt'))\n",
    "news.collocations()"
   ]
  },
  {
   "cell_type": "code",
   "execution_count": 21,
   "id": "89cac610",
   "metadata": {},
   "outputs": [
    {
     "data": {
      "text/plain": [
       "[('a', 31),\n",
       " ('and', 16),\n",
       " ('are', 9),\n",
       " ('an', 5),\n",
       " ('announced', 5),\n",
       " ('available', 5),\n",
       " ('about', 4),\n",
       " ('also', 4),\n",
       " ('as', 4),\n",
       " ('ask', 4)]"
      ]
     },
     "execution_count": 21,
     "metadata": {},
     "output_type": "execute_result"
    }
   ],
   "source": [
    "#The top ten words that start with each of the vowels \n",
    "alist=sorted((w.lower() for w in news_article if w.startswith('a')))\n",
    "\n",
    "vowelDist=FreqDist(alist)\n",
    "vowelDist.most_common(10)"
   ]
  },
  {
   "cell_type": "code",
   "execution_count": 22,
   "id": "0127f811",
   "metadata": {},
   "outputs": [
    {
     "data": {
      "text/plain": [
       "[('employees', 5),\n",
       " ('example', 4),\n",
       " ('event', 3),\n",
       " ('engine', 2),\n",
       " ('engineer', 2),\n",
       " ('every', 2),\n",
       " ('earth', 1),\n",
       " ('edge', 1),\n",
       " ('employee', 1),\n",
       " ('employing', 1)]"
      ]
     },
     "execution_count": 22,
     "metadata": {},
     "output_type": "execute_result"
    }
   ],
   "source": [
    "alist2=sorted((w.lower() for w in news_article if w.startswith('e')))\n",
    "\n",
    "vowelDist=FreqDist(alist2)\n",
    "vowelDist.most_common(10)"
   ]
  },
  {
   "cell_type": "code",
   "execution_count": 23,
   "id": "238ba1fd",
   "metadata": {},
   "outputs": [
    {
     "data": {
      "text/plain": [
       "[('in', 23),\n",
       " ('it', 15),\n",
       " ('is', 13),\n",
       " ('its', 8),\n",
       " ('information', 4),\n",
       " ('into', 3),\n",
       " ('innovation', 2),\n",
       " ('if', 1),\n",
       " ('imagery', 1),\n",
       " ('images', 1)]"
      ]
     },
     "execution_count": 23,
     "metadata": {},
     "output_type": "execute_result"
    }
   ],
   "source": [
    "alist3=sorted((w.lower() for w in news_article if w.startswith('i')))\n",
    "\n",
    "vowelDist=FreqDist(alist3)\n",
    "vowelDist.most_common(10)"
   ]
  },
  {
   "cell_type": "code",
   "execution_count": 24,
   "id": "c38de06b",
   "metadata": {},
   "outputs": [
    {
     "data": {
      "text/plain": [
       "[('of', 28),\n",
       " ('on', 20),\n",
       " ('or', 5),\n",
       " ('out', 2),\n",
       " ('offered', 1),\n",
       " ('offices', 1),\n",
       " ('okay', 1),\n",
       " ('online', 1),\n",
       " ('open', 1),\n",
       " ('order', 1)]"
      ]
     },
     "execution_count": 24,
     "metadata": {},
     "output_type": "execute_result"
    }
   ],
   "source": [
    "alist4=sorted((w.lower() for w in news_article if w.startswith('o')))\n",
    "\n",
    "vowelDist=FreqDist(alist4)\n",
    "vowelDist.most_common(10)"
   ]
  },
  {
   "cell_type": "code",
   "execution_count": 25,
   "id": "e6f3c497",
   "metadata": {},
   "outputs": [
    {
     "data": {
      "text/plain": [
       "[('up', 4),\n",
       " ('users', 4),\n",
       " ('using', 3),\n",
       " ('use', 2),\n",
       " ('unique', 1),\n",
       " ('update', 1),\n",
       " ('updates', 1),\n",
       " ('urging', 1),\n",
       " ('us', 1)]"
      ]
     },
     "execution_count": 25,
     "metadata": {},
     "output_type": "execute_result"
    }
   ],
   "source": [
    "alist5=sorted((w.lower() for w in news_article if w.startswith('u')))\n",
    "\n",
    "vowelDist=FreqDist(alist5)\n",
    "vowelDist.most_common(10)"
   ]
  },
  {
   "cell_type": "code",
   "execution_count": 26,
   "id": "69f72f9b",
   "metadata": {},
   "outputs": [
    {
     "name": "stdout",
     "output_type": "stream",
     "text": [
      "['“', 'The', 'AI', 'race', 'is', 'clearly', 'on', 'for', 'the', 'tech', 'sector', ',”', 'the', 'analysts', 'wrote', 'in', 'a', 'Monday', 'note', '.']\n",
      "['“', 'the', 'ai', 'rac', 'is', 'clear', 'on', 'for', 'the', 'tech', 'sect', ',”', 'the', 'analyst', 'wrot', 'in', 'a', 'monday', 'not', '.']\n",
      "['“', 'the', 'ai', 'race', 'is', 'clearli', 'on', 'for', 'the', 'tech', 'sector', ',”', 'the', 'analyst', 'wrote', 'in', 'a', 'monday', 'note', '.']\n"
     ]
    }
   ],
   "source": [
    "#A stemmed version of the longest sentence\n",
    "porter = nltk.PorterStemmer()\n",
    "lancaster = nltk.LancasterStemmer()\n",
    "\n",
    "stem1=[lancaster.stem(t) for t in longestSent]\n",
    "\n",
    "stem2=[porter.stem(t) for t in longestSent]\n",
    "\n",
    "print(longestSent)\n",
    "print(stem1)\n",
    "print(stem2)\n"
   ]
  },
  {
   "cell_type": "code",
   "execution_count": null,
   "id": "65d83302",
   "metadata": {},
   "outputs": [],
   "source": []
  }
 ],
 "metadata": {
  "kernelspec": {
   "display_name": "Python 3 (ipykernel)",
   "language": "python",
   "name": "python3"
  },
  "language_info": {
   "codemirror_mode": {
    "name": "ipython",
    "version": 3
   },
   "file_extension": ".py",
   "mimetype": "text/x-python",
   "name": "python",
   "nbconvert_exporter": "python",
   "pygments_lexer": "ipython3",
   "version": "3.9.13"
  }
 },
 "nbformat": 4,
 "nbformat_minor": 5
}
